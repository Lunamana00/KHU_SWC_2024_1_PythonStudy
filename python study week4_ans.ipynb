{
 "cells": [
  {
   "cell_type": "markdown",
   "metadata": {},
   "source": [
    "# 2024 학년도 소프트웨어 융합학과 파이썬 스터디 4주차 실습자료 - Class"
   ]
  },
  {
   "attachments": {
    "image-2.png": {
     "image/png": "[encoded data removed]"
    }
   },
   "cell_type": "markdown",
   "metadata": {},
   "source": [
    "### 1. Magic method\n",
    "\n",
    "Python의 magic methods는 특정 행동을 할 때 자동으로 호출되는 메서드들입니다.<br>\n",
    "이러한 메서드는 Python의 여러 객체 지향 기능을 구현하고 사용자 정의 객체를 Python의 내장 객체처럼 작동하게 만드는 데 사용됩니다.\n",
    "![image-2.png](attachment:image-2.png)\n",
    "그렇다면 한번 직접 사용해봅시다!<br>\n",
    "\n",
    "x,y,z 각각 가로 세로 높이로 하는 육면체의 부피를 구하는 C_1의 함수 vol을 만들고<br>\n",
    "C_1 class의 두 인스턴스의 부피가 같을 경우 True 아닐경우 False를 출력할 수 있도록<br> magic method 를 작성하시오<br>\n",
    "그 후 아래 코드를 실행시킨 후 정확한 출력값이 나오는지 확인하시오.\n",
    "\n",
    "출력값<br>\n",
    "<span style=\"color:cyan\">\n",
    "False<br>\n",
    "True<br>\n"
   ]
  },
  {
   "cell_type": "code",
   "execution_count": null,
   "metadata": {},
   "outputs": [],
   "source": [
    "class C_1:\n",
    "    def __init__(self, x,y,z): \n",
    "        self.x = x\n",
    "        self.y = y\n",
    "        self.z = z\n",
    "    \n",
    "    def vol(self):\n",
    "        return self.x*self.y*self.z\n",
    "\n",
    "    def __eq__(self, other):\n",
    "        if self.vol()==other.vol():\n",
    "            return True\n",
    "        else:\n",
    "            return False\n"
   ]
  },
  {
   "cell_type": "code",
   "execution_count": null,
   "metadata": {},
   "outputs": [],
   "source": [
    "box_1 = C_1(1,2,3)\n",
    "box_2 = C_1(3,4,5)\n",
    "box_3 = C_1(1,6,10)\n",
    "\n",
    "print(box_1 == box_2)\n",
    "print(box_2 == box_3)"
   ]
  },
  {
   "cell_type": "markdown",
   "metadata": {},
   "source": [
    "### 2. 상속\n",
    "\n",
    "상속은 부모 클래스/슈퍼 클래스의 속성과 메서드를 새로운 클래스가 물려받아 재사용하고 확장할 수 있게 합니다.\n",
    "\n",
    "한번 기초적인 상속부터 해봅시다!\n",
    "\n",
    "이름과, 먹이, 서식지를 요소로 갖는 부모 클래스인 Animal 클래스를 만들고<br>\n",
    "Animal 클래스를 부모로 갖는 Bear, Duck class를 만드시오<br>\n",
    "그 후 아래 코드에 맞는 결과가 나오도록 내부 메소드를 작성하시오\n",
    "\n",
    "출력값<br>\n",
    "<span style=\"color:cyan\">\n",
    "곰 고기 동굴<br>\n",
    "오리 풀 강<br>\n",
    "곰은 우엉<br>\n",
    "오리는 꽥꽥<br>"
   ]
  },
  {
   "cell_type": "code",
   "execution_count": null,
   "metadata": {},
   "outputs": [],
   "source": [
    "class Animal:\n",
    "\n",
    "    def __init__(self,name,food,habitat):\n",
    "        self.name = name\n",
    "        self.food = food\n",
    "        self.habitat = habitat\n",
    "\n",
    "class Bear(Animal):\n",
    "    \n",
    "    def howl(self):\n",
    "        print(self.name+\"은 우엉\")\n",
    "\n",
    "class Duck(Animal):\n",
    "    \n",
    "    def howl(self):\n",
    "        print(self.name+\"는 꽥꽥\")"
   ]
  },
  {
   "cell_type": "code",
   "execution_count": null,
   "metadata": {},
   "outputs": [],
   "source": [
    "B_1 = Bear(\"곰\",\"고기\",\"동굴\")\n",
    "D_1 = Duck(\"오리\",\"풀\",\"강\")\n",
    "\n",
    "print(B_1.name,B_1.food,B_1.habitat)\n",
    "print(D_1.name,D_1.food,D_1.habitat)\n",
    "B_1.howl()\n",
    "D_1.howl()"
   ]
  },
  {
   "cell_type": "markdown",
   "metadata": {},
   "source": [
    "### 3. 오버라이딩\n",
    "오버라이딩 상속된 클래스에서 부모 클래스의 메서드를 재정의(override)하여<br>\n",
    "자식 클래스에서 다른 동작을 수행하도록 하는 것을 말합니다.<br>\n",
    "오버라이딩을 통해 자식 클래스는 부모 클래스의 메서드를 수정하거나 확장할 수 있습니다.\n",
    "\n",
    "생성자부터 내부 메소드까지 한번 오버라이딩 해봅시다\n",
    "\n",
    "아래 Elec_Device를 부모 클래스로 가지는 Laptop class와 Phone class 가 있습니다\n",
    "\n",
    "name, brand 이외에도 Laptop class 는 CPU와 CPU를 요소로 가집니다.<br>\n",
    "오버라이딩을 활용하여 주어진 출력값이 나오도록 생성자와 introduce 메소드를 완성하시오\n",
    "\n",
    "출력값<br>\n",
    "<span style=\"color:cyan\">\n",
    "제품명은 gram이며 LG사 제품입니다.<br>\n",
    "Intel과 Nvidia를 사용합니다."
   ]
  },
  {
   "cell_type": "code",
   "execution_count": null,
   "metadata": {},
   "outputs": [],
   "source": [
    "class Elec_Device:\n",
    "    \n",
    "    def __init__(self, name, brand):\n",
    "        self.name = name\n",
    "        self.brand = brand\n",
    "    \n",
    "    def introduce(self):\n",
    "        print(\"제품명은 \" +self.name+\" 이며\" + self.brand + \"사 제품입니다.\")\n",
    "\n",
    "class Laptop(Elec_Device):\n",
    "\n",
    "    def __init__(self,name,brand,CPU,GPU):\n",
    "        self.name = name\n",
    "        self.brand = brand\n",
    "        self.CPU = CPU\n",
    "        self.GPU = GPU\n",
    "    \n",
    "    def introduce(self):\n",
    "        \n",
    "        print(f\"제품명은 {self.name}이며 {self.brand}사 제품입니다.\")\n",
    "        print(f\"{self.CPU}과 {self.GPU}를 사용합니다.\")\n",
    "\n"
   ]
  },
  {
   "cell_type": "code",
   "execution_count": null,
   "metadata": {},
   "outputs": [],
   "source": [
    "a = Laptop(\"gram\",\"LG\",\"Intel\",\"Nvidia\")\n",
    "\n",
    "a.introduce()"
   ]
  },
  {
   "cell_type": "markdown",
   "metadata": {},
   "source": [
    "### 4. Super!\n",
    "\n",
    "super()는 부모 클래스의 메서드를 호출하는 데 사용됩니다. 이를 통해 자식 클래스에서 부모 클래스의 메서드를 재사용하거나 확장할 수 있습니다. super()는 특히 다중 상속 상황에서도 올바른 메서드를 호출할 수 있도록 도와주는 역할을 합니다. 다중상속상황에서는 mro를 통해 상속관계를 파악할 수 있습니다.\n",
    "\n",
    "아래 코드를 실행시켜 상속관계를 파악하고<br>\n",
    "주석처리한 코드의 결과를 예상하고 그 이류를 서술하시오\n",
    "\n",
    "출력값<br>\n",
    "<span style=\"color:cyan\">\n",
    "웹파<br>\n",
    "100<br>\n",
    "A+<br>\n",
    "잘했어요<br>"
   ]
  },
  {
   "cell_type": "code",
   "execution_count": null,
   "metadata": {},
   "outputs": [],
   "source": [
    "class A:\n",
    "    def __init__(self):\n",
    "        pass\n",
    "\n",
    "    def do_something(self):\n",
    "        print(\"A\")\n",
    "\n",
    "class B(A):\n",
    "    def __init__(self):\n",
    "        super().__init__()\n",
    "\n",
    "    def do_something(self):\n",
    "        print(\"B\")\n",
    "        super().do_something()\n",
    "\n",
    "class C(A):\n",
    "    def __init__(self):\n",
    "        super().__init__()\n",
    "\n",
    "    def do_something(self):\n",
    "        print(\"C\")\n",
    "        super().do_something()\n",
    "\n",
    "class D(B, C):\n",
    "\n",
    "    def __init__(self):\n",
    "        super().__init__()\n",
    "\n",
    "    def do_something(self):\n",
    "        print(\"D\")\n",
    "        super().do_something()"
   ]
  },
  {
   "cell_type": "code",
   "execution_count": null,
   "metadata": {},
   "outputs": [],
   "source": [
    "d = D()\n",
    "\n",
    "print(D.__mro__)\n",
    "\n",
    "#d.do_something()"
   ]
  },
  {
   "cell_type": "markdown",
   "metadata": {},
   "source": [
    "*답안작성*"
   ]
  },
  {
   "cell_type": "markdown",
   "metadata": {},
   "source": [
    "### 5. @class method 그리고 응용\n",
    "\n",
    "클래스 메서드(class method)는 클래스 레벨에서 동작하는 메서드로, 인스턴스가 아닌 클래스를 첫 번째 인자로 받습니다. 클래스 메서드는 주로 클래스 변수를 조작하거나 클래스 레벨에서 작동하는 기능을 구현할 때 사용됩니다. 클래스 메서드는 @classmethod 데코레이터를 사용하여 정의합니다.\n",
    "\n",
    "이를 활용해 응용된 class를 작성해봅시다\n",
    "\n",
    "Drink class와 이를 부모로 갖는 Mix, Cola, Water class와 Cola를 부모로 갖는 Zero_cola class를 작성하시오<br>\n",
    "Cola Mix Water Zero_cola class는 name, price를 생성자의 파라미터로 받습니다<br>\n",
    "\n",
    "Drink class에 자체에 company요소가 존재하며 기본값은 None 입니다<br>\n",
    "\n",
    "Drink class에 자체에 money요소가 존재하며 기본값은 10000 입니다<br>\n",
    "\n",
    "Cola class의 company 는 \"Coca\"이며 Water class의 company는 \"KR\"입니다<br>\n",
    "\n",
    "** 이 부분은 class를 직접적으로 수정하지 않고 @classmethod를 활용해주세요<br>\n",
    "\n",
    "음료를 구매했을경우 잔액이 있다면 금액과 잔액을 출력하고 없다면 잔액부족을 띄우는 buy 메소드를 작성합니다<br>\n",
    "\n",
    "매직메소드 오버라이딩을 통해 + 를 했다면 이름과 가격을 더한 MIX class를 반환하게 만들어주세요\n",
    "\n",
    "지시사항을 따라 아래 출력코드를 실행시켰을 때 출력값이 나오는 class들을 완성해주세요\n",
    "출력값<br>\n",
    "<span style=\"color:cyan\">\n",
    "<__main__.Cola object at 0x000001786FC3C450><br>\n",
    "Coca 1000 Coca<br>\n",
    "<__main__.Water object at 0x000001786FA2E010><br>\n",
    "Samdasoo 1000 KR<br>\n",
    "<__main__.Zero_cola object at 0x000001786F98BCD0><br>\n",
    "Zero_Coca 1000 Coca<br>\n",
    "<__main__.Mix object at 0x000001786FB0A0D0><br>\n",
    "Zero_Coca,Samdasoo 2000 Coca<br>\n",
    "<__main__.Mix object at 0x000001786F6CFB90><br>\n",
    "Coca,Zero_Coca,Samdasoo 3000 Coca<br>\n",
    "어쨌든 몸에 안좋음<br>\n",
    "인산, 수크랄로스, 구연산삼나트륨, 천연향료<br>\n",
    "가격 : 1000<br>\n",
    "잔액 : 3000<br>\n",
    "가격 : 1000<br>\n",
    "잔액 : 2000<br>\n",
    "가격 : 1000<br>\n",
    "잔액 : 1000<br>\n",
    "잔액 부족<br>\n",
    "잔액 부족<br>"
   ]
  },
  {
   "cell_type": "code",
   "execution_count": null,
   "metadata": {},
   "outputs": [],
   "source": [
    "class Drink:\n",
    "    company = None\n",
    "    money = 10000\n",
    "    def __init__(self,name,price):\n",
    "        self.name = name\n",
    "        self.price = price\n",
    "\n",
    "    @classmethod\n",
    "    def set_company(cls,company):\n",
    "        cls.company = company\n",
    "\n",
    "    def buy(self):\n",
    "        if(Drink.money > int(self.price)):\n",
    "            Drink.money -= int(self.price)\n",
    "            print(\"가격 : \" +str(self.price))\n",
    "            print(\"잔액 : \" +str(Drink.money))\n",
    "        else:\n",
    "            print(\"잔액 부족\")\n",
    "\n",
    "    def __add__(self,a):\n",
    "        return Mix(self.name +\",\"+ a.name,int(self.price)+int(a.price))\n",
    "        \n",
    "class Cola(Drink):\n",
    "    ingredient = \"어쨌든 몸에 안좋음\"\n",
    "class Mix(Drink):\n",
    "    pass\n",
    "class Water(Drink):\n",
    "    pass\n",
    "class Zero_cola(Cola):\n",
    "    ingredient = \"인산, 수크랄로스, 구연산삼나트륨, 천연향료\""
   ]
  },
  {
   "cell_type": "code",
   "execution_count": null,
   "metadata": {},
   "outputs": [],
   "source": [
    "money = 10000\n",
    "\n",
    "cola = Cola(\"Coca\",\"1000\")\n",
    "water = Water(\"Samdasoo\",\"1000\")\n",
    "zero_cola = Zero_cola(\"Zero_Coca\",\"1000\")\n",
    "mix_1 = zero_cola + water\n",
    "mix_2 = cola + mix_1\n",
    "Drink.company = \"Coca\"\n",
    "Water.company = \"KR\"\n",
    "\n",
    "print(cola)\n",
    "print(cola.name,cola.price,cola.company)\n",
    "print(water)\n",
    "print(water.name,water.price,water.company)\n",
    "print(zero_cola)\n",
    "print(zero_cola.name,zero_cola.price,zero_cola.company)\n",
    "print(mix_1)\n",
    "print(mix_1.name,mix_1.price,mix_1.company)\n",
    "print(mix_2)\n",
    "print(mix_2.name,mix_2.price,mix_2.company)\n",
    "\n",
    "print(cola.ingredient)\n",
    "print(zero_cola.ingredient)\n",
    "\n",
    "water.buy()\n",
    "cola.buy()\n",
    "zero_cola.buy()\n",
    "mix_2.buy()\n",
    "mix_1.buy()\n"
   ]
  }
 ],
 "metadata": {
  "kernelspec": {
   "display_name": "Python 3",
   "language": "python",
   "name": "python3"
  },
  "language_info": {
   "codemirror_mode": {
    "name": "ipython",
    "version": 3
   },
   "file_extension": ".py",
   "mimetype": "text/x-python",
   "name": "python",
   "nbconvert_exporter": "python",
   "pygments_lexer": "ipython3",
   "version": "3.11.9"
  }
 },
 "nbformat": 4,
 "nbformat_minor": 2
}
