{
 "cells": [
  {
   "cell_type": "markdown",
   "metadata": {},
   "source": [
    "# 2024 학년도 소프트웨어 융합학과 파이썬 스터디 2주차 실습자료 - 반복문 함수"
   ]
  },
  {
   "cell_type": "markdown",
   "metadata": {},
   "source": [
    "### 1. 반복문이란 - for\n",
    "\n",
    "반복문은 반복되는 작업을 일일히 코드로 하나하나 작성하지 않고 한꺼번에 처리하게 만들어 줄 수 있습니다.<br>\n",
    "반복문에는 정해진 횟수만큼 반복하는 for 문과 특정 조건이 만족될 때까지 반복하는 while문이 있습니다.<br>\n",
    "\n",
    "그렇다면 한번 직접 반복문을 써봅시다!<br>\n",
    "\n",
    "for 문을 활용하여 0부터 9까지 출력하는 코드를 작성하시오<br>\n",
    "\n",
    "\n",
    "출력값<br>\n",
    "<span style=\"color:cyan\">\n",
    "0<br>\n",
    "1<br>\n",
    "2<br>\n",
    "3<br>\n",
    "4<br>\n",
    "5<br>\n",
    "6<br>\n",
    "7<br>\n",
    "8<br>\n",
    "9"
   ]
  },
  {
   "cell_type": "code",
   "execution_count": null,
   "metadata": {},
   "outputs": [],
   "source": [
    "for i in range(10):\n",
    "    print(i)"
   ]
  },
  {
   "cell_type": "markdown",
   "metadata": {},
   "source": [
    "### 2. 반복문이란 - while\n",
    "\n",
    "이전 문제에서 for문을 활용하여 숫자를 출력해보았습니다. 그렇다면 같은 작업을 while문을 활용해서 진행해봅시다<br>\n",
    "\n",
    "while 문을 활용하여 0부터 9까지 출력하시오.<br>\n",
    "\n",
    "\n",
    "출력값<br>\n",
    "<span style=\"color:cyan\">\n",
    "0<br>\n",
    "1<br>\n",
    "2<br>\n",
    "3<br>\n",
    "4<br>\n",
    "5<br>\n",
    "6<br>\n",
    "7<br>\n",
    "8<br>\n",
    "9"
   ]
  },
  {
   "cell_type": "code",
   "execution_count": null,
   "metadata": {},
   "outputs": [],
   "source": [
    "a = 0\n",
    "while(a<10):\n",
    "    print(a)\n",
    "    a+=1"
   ]
  },
  {
   "cell_type": "markdown",
   "metadata": {},
   "source": [
    "### 3. 반복문이란 - 문자열 출력\n",
    "\n",
    "이전 문제들에서 반복문을 활용해 숫자를 출력해 보았습니다.<br>\n",
    "하지만 파이썬에서 다루는 자료형에는 int형만 있는것이 아니죠<br>\n",
    "이번에는 한번 문자를 출력해봅시다!<br>\n",
    "\n",
    "반복문을 활용해 정해진 출력값이 나오도록 코드를 작성하시오\n",
    "\n",
    "* 힌트<br>\n",
    "<span style=\"color:orange\">\n",
    "결국 반복문이라는 것은 특정한 행위를 반복해서 실행하여 정해진 조건을 만족시키도록 하기 위해 사용된다.<br>\n",
    "for 문에서는 range 범위 내에서 설정한 변수가 하나씩 증가하고, while문의 경우에는 대부분 정해진 조건을<br>\n",
    "만족시키기 위해 while 문 내부에서 변수에 영향을 주는 방식으로 대부분 코드를 작성한다.<br>\n",
    "결국 둘 다 숫자를 증가시키는 방향으로 많이 사용된다는 것이다..<br>\n",
    "<span style=\"color:yellow\">\n",
    "우리가 출력해야하는 것은 문자열 그렇다면, 숫자와 문자 이 두가지를 어떻게 처리해야 할것인가 \n",
    "\n",
    "\n",
    "출력값<br>\n",
    "<span style=\"color:cyan\">\n",
    "*<br>\n",
    "**<br>\n",
    "***<br>\n",
    "****<br>\n",
    "*****<br>\n",
    "******<br>\n",
    "*******<br>\n",
    "********<br>\n",
    "*********<br>\n",
    "**********"
   ]
  },
  {
   "cell_type": "code",
   "execution_count": null,
   "metadata": {},
   "outputs": [],
   "source": [
    "for i in range(10):\n",
    "    print(\"*\"*(i+1))"
   ]
  },
  {
   "cell_type": "markdown",
   "metadata": {},
   "source": [
    "### 4. 반복문 - list\n",
    "\n",
    "앞에서 문제를 잘 해결하였다면 이제 우리는 숫자와 문자에 대해서 반복문을 어떻게 사용해야하는지 알게 되었다<br>\n",
    "근데 반복문으로 활용할 수 있는 요소는 int값만 있는것이 아니다. 순서가 있는 요소들을 순서별로 불러올 수도 있다<br>\n",
    "한번 우리가 아마도 가장 많이 사용하게될 list의 요소들을 반복문으로 출력하는 연습을 해보자<br>\n",
    "\n",
    "입력값으로 주어진 값들을 input으로 받고 slicing을 통해 list화 시킨 후 반복문을 활용해 출력하시오\n",
    "\n",
    "* 힌트<br>\n",
    "<span style=\"color:orange\">\n",
    "문자열.split(\"x\") 는 x를 기준으로 문자열을 나눈 후 나눠진 부분들을 list에 집어넣는다\n",
    "\n",
    "\n",
    "입력값<br>\n",
    "<span style=\"color:cyan\"> \n",
    "A B C D E F\n",
    "\n",
    "출력값<br>\n",
    "<span style=\"color:cyan\">\n",
    "A<br>\n",
    "B<br>\n",
    "C<br>\n",
    "D<br>\n",
    "E<br>\n",
    "F<br>"
   ]
  },
  {
   "cell_type": "code",
   "execution_count": null,
   "metadata": {},
   "outputs": [],
   "source": [
    "a1 = input()\n",
    "a2 = a1.split(\" \")\n",
    "\n",
    "for i in a2:\n",
    "    print(i)"
   ]
  },
  {
   "cell_type": "markdown",
   "metadata": {},
   "source": [
    "### 5. 반복문 - list2\n",
    "\n",
    "앞에서는 list를 직접 이용하여 list내부의 요소를 출력하였다. 그런데 list는 list의 index를 활용하여 접근할 수 있다<br>\n",
    "그렇다면 이번에는 list의 index를 활용하여 반복문으로 list 내부의 요소를 출력해보자\n",
    "\n",
    "* 힌트<br>\n",
    "<span style=\"color:orange\">\n",
    "리스트의 index를 활용하기 위해선 리스트의 길이를 불러오면 좋지 않을까?\n",
    "\n",
    "\n",
    "입력값<br>\n",
    "<span style=\"color:cyan\"> \n",
    "A B C D E F G H I J K L\n",
    "\n",
    "출력값<br>\n",
    "<span style=\"color:cyan\">\n",
    "A<br>\n",
    "B<br>\n",
    "C<br>\n",
    "D<br>\n",
    "E<br>\n",
    "F<br>\n",
    "G<br>\n",
    "H<br>\n",
    "I<br>\n",
    "J<br>\n",
    "K<br>\n",
    "L"
   ]
  },
  {
   "cell_type": "code",
   "execution_count": null,
   "metadata": {},
   "outputs": [],
   "source": [
    "a1 = input()\n",
    "a2 = a1.split(\" \")\n",
    "\n",
    "for i in range(len(a2)):\n",
    "    print(a2[i])\n",
    "\n"
   ]
  },
  {
   "cell_type": "markdown",
   "metadata": {},
   "source": [
    "### 6. 반복문 - break\n",
    "\n",
    "반복문에서 원하는 것을 얻었을 경우 반복문을 중단하고 다음 코드로 넘어가야할 상황이 종종 발생한다<br>\n",
    "이럴때 사용하는 것이 break이다. break는 가장 가까운 반복문을 탈출한다\n",
    "\n",
    "여러 숫자가 input으로 주어질 때, 주어진 숫자들 중 처음으로 나오는 짝수를 출력하는 코드를 작성하시오<br>\n",
    "\n",
    "* 힌트<br>\n",
    "<span style=\"color:orange\">\n",
    "처음으로 나오는 짝수라는 조건을 만족시킨다.. if..? 혹은 반복 + 조건문인 while?<br>\n",
    "또한 input은 str을 입력받는 것이다\n",
    "\n",
    "입력값<br>\n",
    "<span style=\"color:cyan\">\n",
    "1 7 19 2 31 40 52\n",
    "\n",
    "출력값<br>\n",
    "<span style=\"color:cyan\">\n",
    "2"
   ]
  },
  {
   "cell_type": "code",
   "execution_count": 15,
   "metadata": {},
   "outputs": [
    {
     "name": "stdout",
     "output_type": "stream",
     "text": [
      "2\n",
      "2\n"
     ]
    }
   ],
   "source": [
    "a1 = input()\n",
    "a2 = a1.split(\" \")\n",
    "\n",
    "for i in a2:\n",
    "    i = int(i)\n",
    "    if i%2 == 0:\n",
    "        print(i)\n",
    "        break\n",
    "\n",
    "\n",
    "a = 0\n",
    "while(int(a2[a])%2):\n",
    "    a +=1\n",
    "print(a2[a])"
   ]
  },
  {
   "cell_type": "markdown",
   "metadata": {},
   "source": [
    "### 7. 반복문 - continue\n",
    "continue는 continue 아래 코드를<br> 무시하고 반복문의 처음으로 돌아간다. 이를 활용하여 문제를 풀어보자<br>\n",
    "\n",
    "여러 숫자가 input으로 주어질 때, 주어진 숫자 중 홀수의 합과 짝수의 합을 각각 출력하시오. <br>\n",
    "단 if 구문은 한번만 사용하고 else를 사용하지 마시오\n",
    "\n",
    "* 힌트<br>\n",
    "<span style=\"color:orange\">\n",
    "continue는 else와 비슷한 역할을 한다\n",
    "\n",
    "입력값<br>\n",
    "<span style=\"color:cyan\">\n",
    "1 7 19 2 31 40 52\n",
    "\n",
    "출력값<br>\n",
    "<span style=\"color:cyan\">\n",
    "58\n",
    "94"
   ]
  },
  {
   "cell_type": "code",
   "execution_count": null,
   "metadata": {},
   "outputs": [],
   "source": [
    "a1 = input()\n",
    "a2 = a1.split(\" \")\n",
    "\n",
    "sum_odd = 0\n",
    "sum_even = 0\n",
    "\n",
    "for i in a2:\n",
    "    i = int(i)\n",
    "    if i%2 == 0:\n",
    "        sum_even+=i\n",
    "        continue\n",
    "    sum_odd += i\n",
    "\n",
    "print(sum_odd)\n",
    "print(sum_even)"
   ]
  },
  {
   "cell_type": "markdown",
   "metadata": {},
   "source": [
    "### 8. 함수 - 입력\n",
    "\n",
    "파이썬에는 여러 내장함수가 있다. 하지만 사용자가 직접 함수를 만들어 사용할수도 있다.<br>\n",
    "여러번 반복해서 불러와야 하는 코드는 함수로 제작해 불러오는것이 효율적이다<br>\n",
    "그렇다면 이제 한번 함수를 만들어보자\n",
    "\n",
    "숫자를 입력받아 출력하는 function_1 함수를 만든 후 입력값을 받아 함수를 반복문으로 실행시키시오\n",
    "\n",
    "* 힌트<br>\n",
    "<span style=\"color:orange\">\n",
    "사실상 print도 함수긴 한데.. 이걸 조금만 바꿔서 다른 함수로 다시 포장하는 것이다\n",
    "\n",
    "입력값<br>\n",
    "<span style=\"color:cyan\">\n",
    "1 7 경희대 소융과 SWC\n",
    "\n",
    "출력값<br>\n",
    "<span style=\"color:cyan\">\n",
    "입력값은 1 입니다<br>\n",
    "입력값은 7 입니다<br>\n",
    "입력값은 경희대 입니다<br>\n",
    "입력값은 소융과 입니다<br>\n",
    "입력값은 SWC 입니다<br>"
   ]
  },
  {
   "cell_type": "code",
   "execution_count": null,
   "metadata": {},
   "outputs": [],
   "source": [
    "def function_1(n):\n",
    "    print(\"입력값은 \"+n+\" 입니다\")\n",
    "\n",
    "a1 = input()\n",
    "a2 = a1.split(\" \")\n",
    "\n",
    "for i in a2:\n",
    "    function_1(i)"
   ]
  },
  {
   "cell_type": "markdown",
   "metadata": {},
   "source": [
    "### 9. 함수 - 다변수 함수\n",
    "\n",
    "함수에 입력하는 파라미터는 하나일수도 있지만 여러 개 일수도 있다. 여러가지 입력값을 받아보자<br>\n",
    "\n",
    "두개의 정수를 str형 파라미터로 입력받아 합과 곱을 출력하는 function_2 함수를 만든후 실행시키시오\n",
    "\n",
    "* 힌트<br>\n",
    "<span style=\"color:orange\">\n",
    "리스트의 값을 따로따로 변수에 지정하면 함수에 넣을 수 있지 않을까?\n",
    "\n",
    "입력값<br>\n",
    "<span style=\"color:cyan\">\n",
    "18912 7123\n",
    "\n",
    "출력값<br>\n",
    "<span style=\"color:cyan\">\n",
    "합은 26035 입니다\n",
    "곱은 134710176 입니다"
   ]
  },
  {
   "cell_type": "code",
   "execution_count": null,
   "metadata": {},
   "outputs": [],
   "source": [
    "def function_2(a,b):\n",
    "    print(f\"합은 {int(a)+int(b)} 입니다\")\n",
    "    print(f\"곱은 {int(a)*int(b)} 입니다\")\n",
    "\n",
    "\n",
    "a1 = input()\n",
    "a2 = a1.split(\" \")\n",
    "\n",
    "para_1 = a2[0]\n",
    "para_2 = a2[1]\n",
    "\n",
    "function_2(para_1,para_2)"
   ]
  },
  {
   "cell_type": "markdown",
   "metadata": {},
   "source": [
    "### 10. 함수 - return\n",
    "\n",
    "함수는 종료 후 return 즉 값을 반환해줄 수 있다. 한번 반환하는 연습을 해보자\n",
    "\n",
    "입력값의 제곱을 출력하는 함수 function_3를 만든 후 function_3를 실행시킨 값의 합을 출력하시오\n",
    "\n",
    "* 힌트<br>\n",
    "<span style=\"color:orange\">\n",
    "return으로 변수에 값을 할당할 수 있다 함수가 종료됐을때 함수 위치에 return해주는 값이 있다고 생각하면 편하다\n",
    "\n",
    "입력값<br>\n",
    "<span style=\"color:cyan\">\n",
    "1 2 3 4 5 6 7 8 9 10\n",
    "\n",
    "출력값<br>\n",
    "<span style=\"color:cyan\">\n",
    "385"
   ]
  },
  {
   "cell_type": "code",
   "execution_count": null,
   "metadata": {},
   "outputs": [],
   "source": [
    "def function_3(a):\n",
    "    return a**2\n",
    "   \n",
    "a1 = input()\n",
    "a2 = a1.split(\" \")\n",
    "sum  = 0\n",
    "print(a2)\n",
    "for i in a2:\n",
    "    sum += function_3(int(i))\n",
    "\n",
    "print(sum)"
   ]
  },
  {
   "cell_type": "markdown",
   "metadata": {},
   "source": [
    "### 11. 함수 - 파라미터1\n",
    "\n",
    "함수는 파라미터로 여러 값을 받을 수 있다 그중에는 리스트, 튜플도 포함된다\n",
    "\n",
    "리스트를 받아 그 내부 숫자들의 합을 출력하는 함수 function_4를 만든 후 function_4를 실행시킨 값을 출력하시오\n",
    "\n",
    "* 힌트<br>\n",
    "<span style=\"color:orange\">\n",
    "숫자가 아닌 불순물은 어떻게 제거해야할까 뭔가 스트링 메소드중에 있었던거 같은데..isdigit?\n",
    "\n",
    "입력값<br>\n",
    "<span style=\"color:cyan\">\n",
    "1 2 KHU 5 6 SWC 10\n",
    "\n",
    "출력값<br>\n",
    "<span style=\"color:cyan\">\n",
    "24"
   ]
  },
  {
   "cell_type": "markdown",
   "metadata": {},
   "source": [
    "* 힌트<br>\n",
    "<span style=\"color:orange\">\n",
    "숫자가 아닌 불순물은 어떻게 제거해야할까 뭔가 스트링 메소드중에 있었던거 같은데..isdigit?\n",
    "\n",
    "입력값<br>\n",
    "<span style=\"color:cyan\">\n",
    "1 2 KHU 5 6 SWC 10\n",
    "\n",
    "출력값<br>\n",
    "<span style=\"color:cyan\">\n",
    "24"
   ]
  },
  {
   "cell_type": "code",
   "execution_count": 10,
   "metadata": {},
   "outputs": [
    {
     "name": "stdout",
     "output_type": "stream",
     "text": [
      "24\n"
     ]
    }
   ],
   "source": [
    "def function_4(a):\n",
    "    sum = 0\n",
    "    for i in a:\n",
    "        if i.isdigit() == True:\n",
    "            sum += int(i)\n",
    "    \n",
    "    return sum\n",
    "   \n",
    "a1 = input()\n",
    "a2 = a1.split(\" \")\n",
    "\n",
    "print(function_4(a2))"
   ]
  },
  {
   "cell_type": "markdown",
   "metadata": {},
   "source": [
    "### 12. 함수 - 파라미터2\n",
    "\n",
    "파라미터를 받아오는 방법은 크게 두가지로 나뉠 수 있다 위에서 쓴것처럼 받아오는<br> postional Argument 아님 a = 3, b = 4 처럼 특정 값을 집어넣는 Keyword Argument<br>\n",
    "\n",
    "그렇다면 이 둘을 어떻게 사용해야할까?\n",
    "\n",
    "입력받은 숫자의 3승을 반환하는 함수 function_5를 작성하고 반환값의 합을 출력하시오\n",
    "단, 입력 파라미터 중에 3승이 있어야 하며 이는 미리 함수내에 정해져 있다.\n",
    "이해 안되면 질문 \n",
    "\n",
    "입력값<br>\n",
    "<span style=\"color:cyan\">\n",
    "1 3 5 7 9\n",
    "\n",
    "출력값<br>\n",
    "<span style=\"color:cyan\">\n",
    "1225"
   ]
  },
  {
   "cell_type": "code",
   "execution_count": null,
   "metadata": {},
   "outputs": [],
   "source": [
    "def function_5(a,b=3):\n",
    "    return a**b\n",
    "   \n",
    "a1 = input()\n",
    "a2 = a1.split(\" \")\n",
    "sum = 0\n",
    "\n",
    "for i in a2:\n",
    "    sum  += function_5(int(i))\n",
    "print(sum) "
   ]
  },
  {
   "cell_type": "markdown",
   "metadata": {},
   "source": [
    "### 13. 함수 - 파라미터3\n",
    "\n",
    "주어지는 파라미터의 수가 유동적일 수도 있다. *args는 postional argument를 list로,<br> **args는 keyword argument를 dictionary 형태로 변환해서 받게 해준다\n",
    "\n",
    "아래 function_6 함수의 결과값을 생각해보고 동작시켜보자"
   ]
  },
  {
   "cell_type": "code",
   "execution_count": null,
   "metadata": {},
   "outputs": [],
   "source": [
    "def function_6(a,*b,**c):\n",
    "\n",
    "    print(a)\n",
    "    print(b)\n",
    "    print(c)\n",
    "\n",
    "function_6(1,2,3,4,A = 5,B = 6,C = 7)"
   ]
  },
  {
   "cell_type": "markdown",
   "metadata": {},
   "source": [
    "### ✡ 여기서부터 응용 문제입니다"
   ]
  },
  {
   "cell_type": "markdown",
   "metadata": {},
   "source": [
    "### ✡ 14. 행렬 구현하기\n",
    "\n",
    "정사각행렬은 1행 1열 .... n행 n열까지 총 n*n개의 값이 정사각형 꼴로 배치된 행렬이다\n",
    "이를 반복문으로 구현해보자\n",
    "\n",
    "* 힌트<br>\n",
    "<span style=\"color:orange\">\n",
    "설마 이걸 일일히 다 적지는 않겠지..? 반복문과 함수를 적절하게 사용해보자<br>\n",
    "가로로 출력하는건 리스트를 활용해보자\n",
    "\n",
    "입력값<br>\n",
    "<span style=\"color:cyan\">\n",
    "7 5 3<br>\n",
    "\n",
    "출력값<br>\n",
    "<span style=\"color:cyan\">\n",
    "['1/1', '1/2', '1/3', '1/4', '1/5', '1/6', '1/7']<br>\n",
    "['2/1', '2/2', '2/3', '2/4', '2/5', '2/6', '2/7']<br>\n",
    "['3/1', '3/2', '3/3', '3/4', '3/5', '3/6', '3/7']<br>\n",
    "['4/1', '4/2', '4/3', '4/4', '4/5', '4/6', '4/7']<br>\n",
    "['5/1', '5/2', '5/3', '5/4', '5/5', '5/6', '5/7']<br>\n",
    "['6/1', '6/2', '6/3', '6/4', '6/5', '6/6', '6/7']<br>\n",
    "['7/1', '7/2', '7/3', '7/4', '7/5', '7/6', '7/7']<br>\n",
    "['1/1', '1/2', '1/3', '1/4', '1/5']<br>\n",
    "['2/1', '2/2', '2/3', '2/4', '2/5']<br>\n",
    "['3/1', '3/2', '3/3', '3/4', '3/5']<br>\n",
    "['4/1', '4/2', '4/3', '4/4', '4/5']<br>\n",
    "['5/1', '5/2', '5/3', '5/4', '5/5']<br>\n",
    "['1/1', '1/2', '1/3']<br>\n",
    "['2/1', '2/2', '2/3']<br>\n",
    "['3/1', '3/2', '3/3']\n"
   ]
  },
  {
   "cell_type": "code",
   "execution_count": 26,
   "metadata": {},
   "outputs": [
    {
     "name": "stdout",
     "output_type": "stream",
     "text": [
      "['1/1', '1/2', '1/3', '1/4', '1/5', '1/6', '1/7']\n",
      "['2/1', '2/2', '2/3', '2/4', '2/5', '2/6', '2/7']\n",
      "['3/1', '3/2', '3/3', '3/4', '3/5', '3/6', '3/7']\n",
      "['4/1', '4/2', '4/3', '4/4', '4/5', '4/6', '4/7']\n",
      "['5/1', '5/2', '5/3', '5/4', '5/5', '5/6', '5/7']\n",
      "['6/1', '6/2', '6/3', '6/4', '6/5', '6/6', '6/7']\n",
      "['7/1', '7/2', '7/3', '7/4', '7/5', '7/6', '7/7']\n",
      "['1/1', '1/2', '1/3', '1/4', '1/5']\n",
      "['2/1', '2/2', '2/3', '2/4', '2/5']\n",
      "['3/1', '3/2', '3/3', '3/4', '3/5']\n",
      "['4/1', '4/2', '4/3', '4/4', '4/5']\n",
      "['5/1', '5/2', '5/3', '5/4', '5/5']\n",
      "['1/1', '1/2', '1/3']\n",
      "['2/1', '2/2', '2/3']\n",
      "['3/1', '3/2', '3/3']\n"
     ]
    }
   ],
   "source": [
    "def matrix(n):\n",
    "\n",
    "    for i in range(n):\n",
    "        list_1 = []\n",
    "        for s in range(n):\n",
    "            list_1.append(str(i+1)+\"/\"+str(s+1))\n",
    "        print(list_1)\n",
    "\n",
    "a1 = input()\n",
    "a2 = a1.split(\" \")\n",
    "\n",
    "for i in a2:\n",
    "    matrix(int(i))"
   ]
  },
  {
   "cell_type": "markdown",
   "metadata": {},
   "source": [
    "### ✡ 15. 최대 최솟값 찾기\n",
    "\n",
    "max나 min함수를 사용하지 않고 주어진 수들 중 최대값 최솟값을 출력하라\n",
    "\n",
    "* 힌트<br>\n",
    "<span style=\"color:orange\">\n",
    "최댓값 최솟값을 따로 저장해준다면 편할거같은데<br>\n",
    "\n",
    "입력값<br>\n",
    "<span style=\"color:cyan\">\n",
    "1 10 2 5 17 5 3<br>\n",
    "\n",
    "출력값<br>\n",
    "<span style=\"color:cyan\">\n",
    "17\n",
    "1"
   ]
  },
  {
   "cell_type": "code",
   "execution_count": 4,
   "metadata": {},
   "outputs": [
    {
     "name": "stdout",
     "output_type": "stream",
     "text": [
      "17\n",
      "1\n"
     ]
    }
   ],
   "source": [
    "a1 = input()\n",
    "a2 = a1.split(\" \")\n",
    "max_v = int(a2[0])\n",
    "min_v = int(a2[0])\n",
    "\n",
    "for i in a2[1:]:\n",
    "    if int(i) > max_v:\n",
    "        max_v = int(i)\n",
    "    if int(i) < min_v:\n",
    "        min_v = int(i)\n",
    "\n",
    "print(max_v)\n",
    "print(min_v)\n"
   ]
  },
  {
   "cell_type": "markdown",
   "metadata": {},
   "source": [
    "\n",
    " \n",
    "<span style=\"color:red\">\n",
    "✡ 어렵습니다 자신 있는 사람만 도전하세요 ✡<br>\n",
    "<span style=\"color:white\">\n",
    "\n",
    "### ✡ 16. 최대 최솟값 찾기-2\n",
    "주어진 수들 중 세 수를 곱했을 때의 결과 중 최대값 최솟값을 출력하라\n",
    "\n",
    "* 힌트<br>\n",
    "<span style=\"color:orange\">\n",
    "행렬 문제와 비슷하다 근데 생각해야할 점이 더 있다<br>\n",
    "\n",
    "입력값<br>\n",
    "<span style=\"color:cyan\">\n",
    "1 10 2 5 17 5 3 19 26<br>\n",
    "\n",
    "출력값<br>\n",
    "<span style=\"color:cyan\">\n",
    "8398<br>\n",
    "6\n"
   ]
  },
  {
   "cell_type": "code",
   "execution_count": 7,
   "metadata": {},
   "outputs": [
    {
     "name": "stdout",
     "output_type": "stream",
     "text": [
      "8398\n",
      "6\n"
     ]
    }
   ],
   "source": [
    "a1 = input()\n",
    "a2 = a1.split(\" \")\n",
    "max_v = int(a2[0])*int(a2[1])*int(a2[2])\n",
    "min_v = int(a2[0])*int(a2[1])*int(a2[2])\n",
    "\n",
    "for i in a2:\n",
    "    for s in a2:\n",
    "        for k in a2:\n",
    "            if len({i,s,k}) == 3:\n",
    "                x_1 = int(i)*int(s)*int(k)\n",
    "                if x_1 > max_v:\n",
    "                    max_v = x_1\n",
    "                if x_1 < min_v:\n",
    "                    min_v = x_1\n",
    "\n",
    "print(max_v)\n",
    "print(min_v)\n"
   ]
  },
  {
   "cell_type": "markdown",
   "metadata": {},
   "source": [
    "### ✡ 17. 팰린드롬인지 확인하기\n",
    "\n",
    "알파벳 소문자로만 이루어진 단어가 주어진다. 이때, 이 단어가 팰린드롬인지 아닌지 확인하는 프로그램을 작성하시오.\n",
    "\n",
    "팰린드롬이란 앞으로 읽을 때와 거꾸로 읽을 때 똑같은 단어를 말한다. \n",
    "\n",
    "level, noon은 팰린드롬이고, baekjoon, online, judge는 팰린드롬이 아니다.\n",
    "\n",
    "\n",
    "* 힌트<br>\n",
    "<span style=\"color:orange\">\n",
    "짝수와 홀수.. 두가지를 따로 생각하거나.. 다른 방법이 있지 않을까 <br>\n",
    "\n",
    "입력<br>\n",
    "첫째 줄에 단어가 주어진다. 단어의 길이는 1보다 크거나 같고, 100보다 작거나 같으며, 알파벳 소문자로만 이루어져 있다.<br>\n",
    "<span style=\"color:cyan\">\n",
    "level baekjoon susus software<br>\n",
    "\n",
    "출력<br>\n",
    "첫째 줄에 팰린드롬이면 1, 아니면 0을 출력한다.<br>\n",
    "<span style=\"color:cyan\">\n",
    "1 0 1 0\n",
    "\n",
    "출처 백준 10988번"
   ]
  },
  {
   "cell_type": "code",
   "execution_count": 44,
   "metadata": {},
   "outputs": [
    {
     "name": "stdout",
     "output_type": "stream",
     "text": [
      "1\n",
      "0\n",
      "1\n",
      "0\n"
     ]
    }
   ],
   "source": [
    "a1 = input()\n",
    "a2 = a1.split(\" \")\n",
    "\n",
    "for i in a2:\n",
    "    if len(i) == 1:\n",
    "        print(i)\n",
    "    else:\n",
    "        switch = 1\n",
    "        for s in range(len(i)//2):\n",
    "            if i[s] != i[len(i)-s-1]:\n",
    "                switch = 0\n",
    "                break\n",
    "        print(switch)\n",
    "# 갑자기 방법이 생각이 안나서 조잡하게 짠 코드입니다 ㅜ"
   ]
  },
  {
   "cell_type": "markdown",
   "metadata": {},
   "source": [
    "### ✡ 17. 단어공부\n",
    "\n",
    "알파벳 대소문자로 된 단어가 주어지면, 이 단어에서 가장 많이 사용된 알파벳이 무엇인지 알아내는 프로그램을 작성하시오. 단, 대문자와 소문자를 구분하지 않는다.\n",
    "\n",
    "* 힌트<br>\n",
    "<span style=\"color:orange\">\n",
    "str메소드중 count..? <br>\n",
    "\n",
    "입력<br>\n",
    "첫째 줄에 알파벳 대소문자로 이루어진 단어가 주어진다. 주어지는 단어의 길이는 1,000,000을 넘지 않는다.<br>\n",
    "<span style=\"color:cyan\">\n",
    "Mississipi zZa z baaa<br>\n",
    "\n",
    "출력<br>\n",
    "첫째 줄에 이 단어에서 가장 많이 사용된 알파벳을 대문자로 출력한다. 단, 가장 많이 사용된 알파벳이 여러 개 존재하는 경우에는 ?를 출력한다.<br>\n",
    "<span style=\"color:cyan\">\n",
    "? Z Z A\n",
    "\n",
    "출처 백준 10988번"
   ]
  },
  {
   "cell_type": "code",
   "execution_count": 25,
   "metadata": {},
   "outputs": [
    {
     "name": "stdout",
     "output_type": "stream",
     "text": [
      "?\n",
      "Z\n",
      "Z\n",
      "A\n"
     ]
    }
   ],
   "source": [
    "a1 = input().split(' ')\n",
    "\n",
    "for i in a1:\n",
    "    list_empt = []\n",
    "    for s in i:\n",
    "        list_empt.append(s.upper())\n",
    "    \n",
    "    list_empt = set(list_empt)\n",
    "    list_empt = list(list_empt)\n",
    "\n",
    "    max_count = 0\n",
    "    max_alpha = \"\"\n",
    "    count = 1\n",
    "    for k in list_empt:\n",
    "        if max_count == i.count(k)+i.count(k.lower()):\n",
    "            count = 0\n",
    "        elif max_count < i.count(k)+i.count(k.lower()):\n",
    "            max_alpha = k\n",
    "            max_count = i.count(k)+i.count(k.lower())\n",
    "            count =1\n",
    "    \n",
    "    if count ==1:\n",
    "        print(max_alpha)\n",
    "    if count == 0:\n",
    "        print(\"?\")"
   ]
  },
  {
   "cell_type": "code",
   "execution_count": 31,
   "metadata": {},
   "outputs": [
    {
     "name": "stdout",
     "output_type": "stream",
     "text": [
      "D\n"
     ]
    }
   ],
   "source": [
    "i = input()\n",
    "\n",
    "list_empt = []\n",
    "for s in i:\n",
    "    list_empt.append(s.upper())\n",
    "    \n",
    "list_empt = set(list_empt)\n",
    "list_empt = list(list_empt)\n",
    "\n",
    "max_count = 0\n",
    "max_alpha = \"\"\n",
    "count = 1\n",
    "for k in list_empt:\n",
    "    if max_count == i.count(k)+i.count(k.lower()):\n",
    "        count = 0\n",
    "    elif max_count < i.count(k)+i.count(k.lower()):\n",
    "        max_alpha = k\n",
    "        max_count = i.count(k)+i.count(k.lower())\n",
    "        count =1\n",
    "    \n",
    "if count ==1:\n",
    "    print(max_alpha)\n",
    "if count == 0:\n",
    "    print(\"?\")"
   ]
  }
 ],
 "metadata": {
  "kernelspec": {
   "display_name": "Python 3",
   "language": "python",
   "name": "python3"
  },
  "language_info": {
   "codemirror_mode": {
    "name": "ipython",
    "version": 3
   },
   "file_extension": ".py",
   "mimetype": "text/x-python",
   "name": "python",
   "nbconvert_exporter": "python",
   "pygments_lexer": "ipython3",
   "version": "3.11.9"
  }
 },
 "nbformat": 4,
 "nbformat_minor": 2
}
