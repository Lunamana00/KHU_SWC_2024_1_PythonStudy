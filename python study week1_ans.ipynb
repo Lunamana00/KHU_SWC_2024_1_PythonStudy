{
 "cells": [
  {
   "cell_type": "markdown",
   "metadata": {},
   "source": [
    "# 2024 학년도 소프트웨어 융합학과 파이썬 스터디 1주차 실습자료"
   ]
  },
  {
   "cell_type": "markdown",
   "metadata": {},
   "source": [
    "### 1. int, float\n",
    "a1에 int형으로 6을 받고 a2에 float형 변수로 6.7 을 받은 후 int형으로 두 변수의 합을 출력하시오 <br>\n",
    "그 후 왜 그러한 출력값이 나오는지 주석으로 설명하시오\n",
    "\n",
    "입력값<br>\n",
    "<span style=\"color:cyan\">\n",
    "6 6.7\n",
    "\n",
    "출력값<br>\n",
    "<span style=\"color:cyan\">\n",
    "12"
   ]
  },
  {
   "cell_type": "code",
   "execution_count": 36,
   "metadata": {},
   "outputs": [
    {
     "ename": "ValueError",
     "evalue": "invalid literal for int() with base 10: ''",
     "output_type": "error",
     "traceback": [
      "\u001b[1;31m---------------------------------------------------------------------------\u001b[0m",
      "\u001b[1;31mValueError\u001b[0m                                Traceback (most recent call last)",
      "Cell \u001b[1;32mIn[36], line 1\u001b[0m\n\u001b[1;32m----> 1\u001b[0m a1 \u001b[38;5;241m=\u001b[39m \u001b[38;5;28;43mint\u001b[39;49m\u001b[43m(\u001b[49m\u001b[38;5;28;43minput\u001b[39;49m\u001b[43m(\u001b[49m\u001b[43m)\u001b[49m\u001b[43m)\u001b[49m\n\u001b[0;32m      2\u001b[0m a2 \u001b[38;5;241m=\u001b[39m \u001b[38;5;28mfloat\u001b[39m(\u001b[38;5;28minput\u001b[39m())\n\u001b[0;32m      4\u001b[0m \u001b[38;5;28mprint\u001b[39m(\u001b[38;5;28mint\u001b[39m(a1\u001b[38;5;241m+\u001b[39ma2))\n",
      "\u001b[1;31mValueError\u001b[0m: invalid literal for int() with base 10: ''"
     ]
    }
   ],
   "source": [
    "a1 = int(input())\n",
    "a2 = float(input())\n",
    "\n",
    "print(int(a1+a2))"
   ]
  },
  {
   "cell_type": "markdown",
   "metadata": {},
   "source": [
    "### 2. string\n",
    "KHU Covergence가 입력값으로 주어질 때 오늘 배운 내용을 활용하여 KHU Software Covergence를 출력하시오\n",
    "\n",
    "입력값<br>\n",
    "<span style=\"color:cyan\">\n",
    "KHU Covergence\n",
    "\n",
    "출력값<br>\n",
    "<span style=\"color:cyan\">\n",
    "KHU Software Covergence"
   ]
  },
  {
   "cell_type": "code",
   "execution_count": null,
   "metadata": {},
   "outputs": [
    {
     "name": "stdout",
     "output_type": "stream",
     "text": [
      "KHU Software Covergence\n"
     ]
    }
   ],
   "source": [
    "a1 = input()\n",
    "a1 = a1.split(\" \")\n",
    "\n",
    "print(\" Software \".join(a1))"
   ]
  },
  {
   "cell_type": "markdown",
   "metadata": {},
   "source": [
    "### 3. string slicing\n",
    "asWeb!@#Python1123Progragnim 이 입력값으로 주어질 때 WebPythonPrograming을 출력하시오\n",
    "\n",
    "입력값<br>\n",
    "<span style=\"color:cyan\">\n",
    "asWeb!@#Python1123Progragnim\n",
    "\n",
    "출력값<br>\n",
    "<span style=\"color:cyan\">\n",
    "WebPythonPrograming"
   ]
  },
  {
   "cell_type": "code",
   "execution_count": null,
   "metadata": {},
   "outputs": [
    {
     "name": "stdout",
     "output_type": "stream",
     "text": [
      "WebPythonPrograming\n"
     ]
    }
   ],
   "source": [
    "a1 = input()\n",
    "a1 = a1[2:5]+a1[8:14]+a1[18:24]+a1[28:23:-1]\n",
    "\n",
    "print(a1)"
   ]
  },
  {
   "cell_type": "markdown",
   "metadata": {},
   "source": [
    "### 4. f-string\n",
    "당신의 이름, 학번, 전화번호를 입력받고 f-string을 사용해 \"저는 소프트웨어 융합학과 {학번} {이름} 입니다. 제 연락처는 {전화번호} 입니다\" 를 출력하시오\n",
    "\n",
    "출력값 예시<br>\n",
    "<span style=\"color:cyan\">\n",
    "저는 소프트웨어융합학과 2023123456 김태현입니다. 제 연락처는 010-1234-5678입니다"
   ]
  },
  {
   "cell_type": "code",
   "execution_count": null,
   "metadata": {},
   "outputs": [
    {
     "name": "stdout",
     "output_type": "stream",
     "text": [
      "저는 소프트웨어 융합학과 2023 김태현입니다. 제 연락처는 010입니다\n"
     ]
    }
   ],
   "source": [
    "a1 = input()\n",
    "a2 = a1.split(\" \")\n",
    "\n",
    "print(f\"저는 소프트웨어 융합학과 {a2[1]} {a2[0]}입니다. 제 연락처는 {a2[2]}입니다\")"
   ]
  },
  {
   "cell_type": "markdown",
   "metadata": {},
   "source": [
    "### 5. list/tuple\n",
    "A,B,C가 속해있는 팀이 tuple형태로 주어진다 이때 C가 팀에서 탈퇴하고 D가 들어온다고 한다.<br>\n",
    "이때 남아있는 팀원의 리스트와 탈퇴한 팀원을 출력하시오\n",
    "\n",
    "출력값<br>\n",
    "<span style=\"color:cyan\">\n",
    "['A', 'B', 'D']<br>\n",
    "C"
   ]
  },
  {
   "cell_type": "code",
   "execution_count": null,
   "metadata": {},
   "outputs": [
    {
     "name": "stdout",
     "output_type": "stream",
     "text": [
      "['A', 'B', 'D']\n",
      "C\n"
     ]
    }
   ],
   "source": [
    "team = (\"A\",\"B\",\"C\")\n",
    "\"\"\"\n",
    "team = list(team)\n",
    "team_out = team.pop(2)\n",
    "team.append(\"D\")\n",
    "\n",
    "print(team)\n",
    "print(team_out)\n",
    "\"\"\"\n",
    "\n"
   ]
  },
  {
   "cell_type": "markdown",
   "metadata": {},
   "source": [
    "### 6. dict\n",
    "mt를 가기 위해 물건을 구매하려 한다. 고기는 400000원 소주는 100000원 과자는 50000원일때<br>\n",
    "물건의 가격을 입력받은 후 딕셔너리 형태로 정리하고 이를 활용해 목록과 총 예산을 출력하시오\n",
    "\n",
    "입력값<br>\n",
    "<span style=\"color:cyan\">고기 400000 소주 100000 과자 50000\n",
    "\n",
    "출력값<br>\n",
    "<span style=\"color:cyan\">\n",
    "고기 400000<br>\n",
    "소주 100000<br>\n",
    "과자 50000<br>\n",
    "550000원"
   ]
  },
  {
   "cell_type": "code",
   "execution_count": null,
   "metadata": {},
   "outputs": [
    {
     "name": "stdout",
     "output_type": "stream",
     "text": [
      "고기 400000\n",
      "소주 100000\n",
      "과자 50000\n",
      "550000원\n"
     ]
    }
   ],
   "source": [
    "a1 = input()\n",
    "a2 = a1.split(\" \")\n",
    "\n",
    "item_dict = dict()\n",
    "item_dict[a2[0]] = a2[1]\n",
    "item_dict[a2[2]] = a2[3]\n",
    "item_dict[a2[4]] = a2[5]\n",
    "\n",
    "print(a2[0]+\" \"+a2[1])\n",
    "print(a2[2]+\" \"+a2[3])\n",
    "print(a2[4]+\" \"+a2[5])\n",
    "\n",
    "print(str(int(a2[1])+int(a2[3])+int(a2[5]))+\"원\")"
   ]
  },
  {
   "cell_type": "markdown",
   "metadata": {},
   "source": [
    "### 7. set\n",
    "A는 롤 오버워치 이터널리턴을 좋아하고 B는 롤 히오스 서든어택 C는 롤 이터널리턴 오버워치 서든어택 을 좋아한다.<br>\n",
    "이때 A B C 가 좋아하는 게임 목록과 가장 좋아하는 사람이 많은 게임을 set의 메소드를 활용하여 출력하시오\n",
    "\n",
    "출력값<br>\n",
    "<span style=\"color:cyan\">\n",
    "{'에이펙스레전드', '롤', '이터널리턴', '발로란트', '히오스', '오버워치'}<br>\n",
    "{'롤', '이터널리턴'}"
   ]
  },
  {
   "cell_type": "code",
   "execution_count": 40,
   "metadata": {},
   "outputs": [
    {
     "name": "stdout",
     "output_type": "stream",
     "text": [
      "{'에이펙스레전드', '롤', '이터널리턴', '발로란트', '히오스', '오버워치'}\n",
      "{'롤', '이터널리턴'}\n"
     ]
    }
   ],
   "source": [
    "A = {\"롤\",\"오버워치\",\"에이펙스레전드\",\"이터널리턴\"}\n",
    "B = {\"롤\",\"히오스\",\"이터널리턴\",\"발로란트\"}\n",
    "C = {\"롤\", \"이터널리턴\", \"오버워치\", \"발로란트\"}\n",
    "\n",
    "print(A.union(B).union(C))\n",
    "print(A.intersection(B).intersection(C))\n"
   ]
  },
  {
   "cell_type": "markdown",
   "metadata": {},
   "source": [
    "### 8. bool / if\n",
    "학생들의 성적을 상대평가로 평가하려 한다. 점수가 평균의 2배 이상이면 A+ / 평균 ~ 2배면 A0 / 그 이하면 F라 할때<br>\n",
    "A B C 3명의 성적을 입력받고 A의 점수를 평가해 출력하는 코드를 작성하시오 \n",
    "\n",
    "입력값<br>\n",
    "<span style=\"color:cyan\">\n",
    "66 98 23\n",
    "\n",
    "출력값<br>\n",
    "<span style=\"color:cyan\">\n",
    "A0\n"
   ]
  },
  {
   "cell_type": "code",
   "execution_count": 44,
   "metadata": {},
   "outputs": [
    {
     "name": "stdout",
     "output_type": "stream",
     "text": [
      "A0\n"
     ]
    }
   ],
   "source": [
    "a1 = input()\n",
    "a2 = a1.split(\" \")\n",
    "\n",
    "a2 = [int(a2[0]),int(a2[1]),int(a2[2])]\n",
    "\n",
    "if a2[0] > 2*sum(a2)/3 :\n",
    "    print(\"A+\")\n",
    "elif a2[0] > sum(a2)/3 :\n",
    "    print(\"A0\")\n",
    "else:\n",
    "    print(\"F\")"
   ]
  },
  {
   "cell_type": "markdown",
   "metadata": {},
   "source": [
    "### 9 . 알람 시계\n",
    "### <span style=\"color:orange\">★ 난이도가 조금 있는 문제 입니다 ★\n",
    "\n",
    "상근이는 매일 아침 알람을 듣고 일어난다. 알람을 듣고 바로 일어나면 다행이겠지만, 항상 조금만 더 자려는 마음 때문에 매일 학교를 지각하고 있다.<br>\n",
    "\n",
    "상근이는 모든 방법을 동원해보았지만, 조금만 더 자려는 마음은 그 어떤 것도 없앨 수가 없었다.<br>\n",
    "\n",
    "이런 상근이를 불쌍하게 보던 창영이는 자신이 사용하는 방법을 추천해 주었다.<br>\n",
    "\n",
    "바로 \"45분 일찍 알람 설정하기\"이다.<br>\n",
    "\n",
    "이 방법은 단순하다. 원래 설정되어 있는 알람을 45분 앞서는 시간으로 바꾸는 것이다. 어차피 알람 소리를 들으면, 알람을 끄고 조금 더 잘 것이기 때문이다. 이 방법을 사용하면, 매일 아침 더 잤다는 기분을 느낄 수 있고, 학교도 지각하지 않게 된다.<br>\n",
    "\n",
    "현재 상근이가 설정한 알람 시각이 주어졌을 때, 창영이의 방법을 사용한다면, 이를 언제로 고쳐야 하는지 구하는 프로그램을 작성하시오. <br>\n",
    "\n",
    "\n",
    "첫째 줄에 두 정수 H와 M이 주어진다. (0 ≤ H ≤ 23, 0 ≤ M ≤ 59) 그리고 이것은 현재 상근이가 설정한 알람 시간 H시 M분을 의미한다.\n",
    "\n",
    "입력값<br>\n",
    "<span style=\"color:cyan\">\n",
    "10 10 0 30 23 40\n",
    "\n",
    "출력값<br>\n",
    "<span style=\"color:cyan\">\n",
    "9 25 23 45 22 55<br>\n",
    "\n",
    "출처 : 백준 2884번"
   ]
  },
  {
   "cell_type": "code",
   "execution_count": 51,
   "metadata": {},
   "outputs": [
    {
     "name": "stdout",
     "output_type": "stream",
     "text": [
      "[9, 25, 23, 45, 22, 55]\n"
     ]
    }
   ],
   "source": [
    "a1 = input()\n",
    "a2 = a1.split(\" \")\n",
    "\n",
    "if int(a2[1]) - 45 < 0 :\n",
    "    if int(a2[0]) == 0:\n",
    "        a2[0] = 23\n",
    "    else:\n",
    "        a2[0] = int(a2[0])-1\n",
    "    a2[1] = int(a2[1]) + 15\n",
    "else:\n",
    "    a2[1] = int(a2[1])-45\n",
    "\n",
    "if int(a2[3]) - 45 < 0 :\n",
    "    if int(a2[2]) == 0:\n",
    "        a2[2] = 23\n",
    "    else:\n",
    "        a2[2] = int(a2[2])-1\n",
    "    a2[3] = int(a2[3]) + 15\n",
    "else:\n",
    "    a2[3] = int(a2[3])-45\n",
    "\n",
    "if int(a2[5]) - 45 < 0 :\n",
    "    if int(a2[4]) == 0:\n",
    "        a2[4] = 23\n",
    "    else:\n",
    "        a2[4] = int(a2[4])-1\n",
    "    a2[5] = int(a2[5]) + 15\n",
    "else:\n",
    "    a2[5] = int(a2[5])-45\n",
    "\n",
    "\n",
    "print(a2)"
   ]
  },
  {
   "cell_type": "markdown",
   "metadata": {},
   "source": [
    "### 10. 주사위 세개\n",
    "### <span style=\"color:orange\">★ 난이도가 조금 있는 문제 입니다 ★<br>\n",
    "\n",
    "1에서부터 6까지의 눈을 가진 3개의 주사위를 던져서 다음과 같은 규칙에 따라 상금을 받는 게임이 있다.\n",
    "\n",
    "1.같은 눈이 3개가 나오면 10,000원+(같은 눈)×1,000원의 상금을 받게 된다.<br>\n",
    "2.같은 눈이 2개만 나오는 경우에는 1,000원+(같은 눈)×100원의 상금을 받게 된다.<br>\n",
    "3.모두 다른 눈이 나오는 경우에는 (그 중 가장 큰 눈)×100원의 상금을 받게 된다.<br><br>\n",
    "예를 들어, 3개의 눈 3, 3, 6이 주어지면 상금은 1,000+3×100으로 계산되어 1,300원을 받게 된다. 또 3개의 눈이 2, 2, 2로 주어지면 10,000+2×1,000 으로 계산되어 12,000원을 받게 된다. 3개의 눈이 6, 2, 5로 주어지면 그중 가장 큰 값이 6이므로 6×100으로 계산되어 600원을 상금으로 받게 된다.\n",
    "\n",
    "3개 주사위의 나온 눈이 주어질 때, 상금을 계산하는 프로그램을 작성 하시오.\n",
    "\n",
    "입력값<br>\n",
    "<span style=\"color:cyan\">\n",
    "3 3 6 2 2 2 6 2 5\n",
    "\n",
    "출력값<br>\n",
    "<span style=\"color:cyan\">\n",
    "1300 12000 600<br>"
   ]
  },
  {
   "cell_type": "code",
   "execution_count": 61,
   "metadata": {},
   "outputs": [
    {
     "name": "stdout",
     "output_type": "stream",
     "text": [
      "1300\n",
      "12000\n",
      "600\n"
     ]
    }
   ],
   "source": [
    "a1 = input()\n",
    "a2 = a1.split(\" \")\n",
    "a2 = list(map(int,a2))\n",
    "\n",
    "s_1 = a2[0:3]\n",
    "s_2 = a2[3:6]\n",
    "s_3 = a2[6:]\n",
    "\n",
    "if len(set(s_1))==1:\n",
    "    print(10000+s_1[0]*1000)\n",
    "elif len(set(s_1))==2:\n",
    "    if s_1.count(s_1[0])==2:\n",
    "        print(1000+s_1[0]*100)\n",
    "    elif s_1.count(s_1[1])==2:\n",
    "        print(1000+s_1[1]*100)\n",
    "    else:\n",
    "        print(1000+s_1[2]*100)\n",
    "else:\n",
    "    print(max(s_1)*100)\n",
    "\n",
    "if len(set(s_2))==1:\n",
    "    print(10000+s_2[0]*1000)\n",
    "elif len(set(s_2))==2:\n",
    "    if s_2.count(s_2[0])==2:\n",
    "        print(1000+s_2[0]*100)\n",
    "    elif s_2.count(s_2[1])==2:\n",
    "        print(1000+s_2[1]*100)\n",
    "    else:\n",
    "        print(1000+s_2[2]*100)\n",
    "else:\n",
    "    print(max(s_2)*100)\n",
    "\n",
    "if len(set(s_3))==1:\n",
    "    print(10000+s_3[0]*1000)\n",
    "elif len(set(s_3))==2:\n",
    "    if s_3.count(s_3[0])==2:\n",
    "        print(1000+s_3[0]*100)\n",
    "    elif s_3.count(s_3[1])==2:\n",
    "        print(1000+s_3[1]*100)\n",
    "    else:\n",
    "        print(1000+s_3[2]*100)\n",
    "else:\n",
    "    print(max(s_3)*100)\n"
   ]
  }
 ],
 "metadata": {
  "kernelspec": {
   "display_name": "Python 3",
   "language": "python",
   "name": "python3"
  },
  "language_info": {
   "codemirror_mode": {
    "name": "ipython",
    "version": 3
   },
   "file_extension": ".py",
   "mimetype": "text/x-python",
   "name": "python",
   "nbconvert_exporter": "python",
   "pygments_lexer": "ipython3",
   "version": "3.11.8"
  }
 },
 "nbformat": 4,
 "nbformat_minor": 2
}
