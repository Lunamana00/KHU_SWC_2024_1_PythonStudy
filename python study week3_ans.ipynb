{
 "cells": [
  {
   "cell_type": "markdown",
   "metadata": {},
   "source": [
    "# 2024 학년도 소프트웨어 융합학과 파이썬 스터디 3주차 실습자료 - Class"
   ]
  },
  {
   "cell_type": "markdown",
   "metadata": {},
   "source": [
    "### 1. Class 를 만들어보자-1\n",
    "class는 데이터를 저장하고 그 데이터를 메소드를 통해 활용할 수 있게 만듭니다.\n",
    "원래 class내부의 데이터를 활용할 수도 있고 아니면 파라미터를 통해 데이터를 활용할 수도 있습니다.\n",
    "일단 class내부 데이터를 활용해봅시다.<br>\n",
    "\n",
    "아래 코드를 실행시켰을 때 출력값이 나오게 하는 class C_1을 작성하시오\n",
    "\n",
    "출력값<br>\n",
    "<span style=\"color:cyan\">\n",
    "자기 이름<br>\n",
    "자기 나이<br>\n"
   ]
  },
  {
   "cell_type": "code",
   "execution_count": null,
   "metadata": {},
   "outputs": [],
   "source": [
    "class C_1:\n",
    "    name = \"김태현\"\n",
    "    age = \"25\""
   ]
  },
  {
   "cell_type": "code",
   "execution_count": null,
   "metadata": {},
   "outputs": [],
   "source": [
    "v_1 = C_1()\n",
    "print(v_1.name)\n",
    "print(v_1.age)"
   ]
  },
  {
   "cell_type": "markdown",
   "metadata": {},
   "source": [
    "### 2. Class 를 만들어보자-2\n",
    "이번에는 파라미터를 통해 class에 데이터를 직접 입력하고 활용해 봅시다<br>\n",
    "\n",
    "아래 코드를 실행시켰을 때 출력값이 나오게 하는 class C_2를 작성하시오\n",
    "\n",
    "출력값<br>\n",
    "<span style=\"color:cyan\">\n",
    "SWC<br>\n",
    "자기 학번<br>\n",
    "자기 이름<br>\n"
   ]
  },
  {
   "cell_type": "code",
   "execution_count": null,
   "metadata": {},
   "outputs": [],
   "source": [
    "class C_2:\n",
    "    def __init__(self,department,code,name):\n",
    "        self.department = department\n",
    "        self.name = name\n",
    "        self.code = code\n",
    "        "
   ]
  },
  {
   "cell_type": "code",
   "execution_count": null,
   "metadata": {},
   "outputs": [],
   "source": [
    "v_2 = C_2(\"SWC\",\"자기 학번\",\"자기 이름\")\n",
    "print(v_2.department)\n",
    "print(v_2.code)\n",
    "print(v_2.name)\n"
   ]
  },
  {
   "cell_type": "markdown",
   "metadata": {},
   "source": [
    "### 3. Class의 함수를 만들어보자\n",
    "방금 2번에서 init함수 즉 생성자를 통해 파라미터를 받아 class객체를 만들어 보았습니다.<br>\n",
    "그렇다면 이번에는 생성자가 아닌 다른 함수도 만들어 봅시다!<br>\n",
    "\n",
    "아래 코드를 실행시켰을 때 출력값이 나오게 하는 class C_3을 작성하시오\n",
    "\n",
    "출력값<br>\n",
    "<span style=\"color:cyan\">\n",
    "SWC<br>\n",
    "자기 학번<br>\n",
    "자기 이름<br>"
   ]
  },
  {
   "cell_type": "code",
   "execution_count": null,
   "metadata": {},
   "outputs": [],
   "source": [
    "class C_3:\n",
    "    def __init__(self,department,code,name):\n",
    "        self.department = department\n",
    "        self.name = name\n",
    "        self.code = code\n",
    "\n",
    "    def introduce(self):\n",
    "        print(f\"안녕하십니까 저는 {self.department}학과 {self.code} {self.name}이라고 합니다. 잘 부탁드립니다!\")"
   ]
  },
  {
   "cell_type": "code",
   "execution_count": null,
   "metadata": {},
   "outputs": [],
   "source": [
    "v_3 = C_3(\"소프트웨어융합학과\",\"자기학번\",\"자기이름\")\n",
    "v_3.introduce()"
   ]
  },
  {
   "cell_type": "markdown",
   "metadata": {},
   "source": [
    "### 4. Class의 내부 요소를 변경해보자\n",
    "이전 문제에서 init 함수를 이용해 class 내부의 요소들을 설정했습니다.<br>\n",
    "하지만 init함수를 사용하지 않고도 class 내부의 요소들을 설정/변경할수있습니다.<br>\n",
    "한번 시도해 봅시다!<br>\n",
    "\n",
    "class C_4를 만들고 C_4와 아래 주어진 코드를 이용해 정해진 출력값이 나오게 하는 출력코드를 작성하시오\n",
    "\n",
    "출력값<br>\n",
    "<span style=\"color:cyan\">\n",
    "웹파<br>\n",
    "100<br>\n",
    "A+<br>\n",
    "잘했어요<br>"
   ]
  },
  {
   "cell_type": "code",
   "execution_count": null,
   "metadata": {},
   "outputs": [],
   "source": [
    "class c_4:\n",
    "    subject = \"물리학 및 실험\"\n",
    "    score = 37\n",
    "    grade = \"F\"\n",
    "    special = None\n",
    "\n",
    "    def v_4_print(self):\n",
    "        print(self.subject)\n",
    "        print(self.score)\n",
    "        print(self.grade)\n",
    "        print(self.special)\n",
    "\n",
    "    def op(self):\n",
    "        print(self.v_4_print())\n",
    "        "
   ]
  },
  {
   "cell_type": "code",
   "execution_count": null,
   "metadata": {},
   "outputs": [],
   "source": [
    "v_4 = c_4()\n",
    "v_4.subject = \"웹파\"\n",
    "v_4.score = 100\n",
    "v_4.grade = \"A+\"\n",
    "v_4.special = \"잘했어요\"\n",
    "\n",
    "v_4.v_4_print()"
   ]
  },
  {
   "cell_type": "markdown",
   "metadata": {},
   "source": [
    "### 5. Class의 공통 요소를 변경해보자\n",
    "여태까지는 class객체의 요소를 하나하나 변경해보았습니다.<br>\n",
    "이번에는 같은 class에 속해있는 모든 객체의 요소를 변경해봅시다!.<br>\n",
    "\n",
    "X를 내부 공통 요소로 가지는 class C_5와 아래 주어진 코드를 이용해 정해진 출력값이 나오게 하는 C_5를 만들고 아래 #값 입력에 적절한 값을 입력하시오\n",
    "* calc 메소드는 두 파라미터를 받아 각각 x승 해준다음 더해주는 메소드\n",
    "\n",
    "출력값<br>\n",
    "<span style=\"color:cyan\">\n",
    "25<br>\n",
    "91<br>\n",
    "25<br>\n"
   ]
  },
  {
   "cell_type": "code",
   "execution_count": null,
   "metadata": {},
   "outputs": [],
   "source": [
    "class C_5:\n",
    "    X = None\n",
    "\n",
    "    def calc(self,a,b):\n",
    "        print(a**self.X + b**self.X)\n"
   ]
  },
  {
   "cell_type": "code",
   "execution_count": null,
   "metadata": {},
   "outputs": [],
   "source": [
    "v_5_1 = C_5()\n",
    "v_5_2 = C_5()\n",
    "v_5_3 = C_5()\n",
    "\n",
    "v_5_2.X = #값 입력\n",
    "C_5.X = #값 입력\n",
    "\n",
    "v_5_1.calc(3,4)\n",
    "v_5_2.calc(3,4)\n",
    "v_5_3.calc(3,4)"
   ]
  },
  {
   "cell_type": "markdown",
   "metadata": {},
   "source": [
    "### 6. 생성자를 조금 더 활용해보자\n",
    "위에서는 생성자의 요소에 파라미터를 전부 집어 넣어주었습니다.<br>\n",
    "하지만 미리 keyword 방식으로 파라미터를 미리 지정해 준 후 필요한 파라미터만<br>\n",
    "받고 아닌 파라미터는 기본값을 사용할수도 있습니다<br>\n",
    "아래 코드를 실행시킨 후 결과를 확인하고 왜 저렇게 작동하는지 작성해봅시다 <br>\n"
   ]
  },
  {
   "cell_type": "code",
   "execution_count": null,
   "metadata": {},
   "outputs": [],
   "source": [
    "class C_6_1():\n",
    "    def __init__(self, name, lv, case, dmg):\n",
    "        self.name = name\n",
    "        self.lv = lv\n",
    "        self.type = \"None\"\n",
    "        self.dmg = 1\n",
    "    \n",
    "    def C_P(self):\n",
    "        print(self.name)\n",
    "        print(self.lv)\n",
    "        print(self.type)\n",
    "        print(self.dmg)\n",
    "\n",
    "\n",
    "Monster1 = C_6_1(\"Asmodeus\", 100, \"Devil\",10)\n",
    "Monster2 = C_6_1(\"Slime\", 1)\n",
    "\n",
    "Monster1.C_P()\n",
    "Monster2.C_P()"
   ]
  },
  {
   "cell_type": "code",
   "execution_count": null,
   "metadata": {},
   "outputs": [],
   "source": [
    "class C_6_2():\n",
    "    def __init__(self, name, lv, type=\"None\", dmg=1):\n",
    "        self.name = name\n",
    "        self.lv = lv\n",
    "        self.type = type\n",
    "        self.dmg = dmg\n",
    "    \n",
    "    def C_P(self):\n",
    "        print(self.name)\n",
    "        print(self.lv)\n",
    "        print(self.type)\n",
    "        print(self.dmg)\n",
    "\n",
    "Monster1 = C_6_1(\"Asmodeus\", 100, \"Devil\",10)\n",
    "Monster2 = C_6_2(\"Slime\", 1)\n",
    "\n",
    "Monster1.C_P()\n",
    "Monster2.C_P()\n"
   ]
  },
  {
   "cell_type": "markdown",
   "metadata": {},
   "source": [
    "### <span style=\"color:cyan\">6번 설명 작성"
   ]
  },
  {
   "cell_type": "markdown",
   "metadata": {},
   "source": [
    "### 7. Class의 내부 요소에 들어갈 수 있는 것은?\n",
    "위의 문제들에서는 class의 요소에 문자열이나 정수만 사용하였다.<br>\n",
    "하지만 class의 요소로 사용할 수 있는 것에는 딕셔너리와 list 심지어는 다른 class 도 가능하다.<br>\n",
    "\n",
    "출력코드의 주석부분을 완성하고 출력코드를 실행했을때 다음과 같은 출력값을 출력하는 C_7 class와 option class를 작성하시오\n",
    "\n",
    "출력값<br>\n",
    "<span style=\"color:cyan\">\n",
    "{'type': 'gun', 'name': 'AK-47'} <__main__.options object at 0x0000015AFAC18850><br>\n",
    "=================================================<br>\n",
    "gun AK-47<br>\n",
    "['화약', '글록', '고철']<br>\n",
    "0 50 30"
   ]
  },
  {
   "cell_type": "code",
   "execution_count": null,
   "metadata": {},
   "outputs": [],
   "source": [
    "class C_7:\n",
    "    def __init__(self,name,matarial,options):\n",
    "        self.name = name\n",
    "        self.matarial = matarial\n",
    "        self.options = options\n",
    "\n",
    "class options:\n",
    "    def __init__(self,ap,ad,hp):\n",
    "        self.ap = ap\n",
    "        self.ad = ad\n",
    "        self.hp = hp"
   ]
  },
  {
   "cell_type": "code",
   "execution_count": null,
   "metadata": {},
   "outputs": [],
   "source": [
    "#출력코드\n",
    "v_7 = C_7({\"type\":\"gun\",\"name\":\"AK-47\"},[\"화약\",\"글록\",\"고철\"],#option class작성)\n",
    "\n",
    "print(v_7.name,v_7.options)\n",
    "print(\"=================================================\")\n",
    "print(v_7.name[\"type\"],v_7.name[\"name\"])\n",
    "print(v_7.matarial)\n",
    "print(v_7.options.ap,v_7.options.ad,v_7.options.hp)"
   ]
  },
  {
   "cell_type": "markdown",
   "metadata": {},
   "source": [
    "### 8. Class의 메소드는 어떻게 불러올까?\n",
    "\n",
    "class의 메소드를 불러오는 방법에는 두가지가 있다. Class명.메소드명(인스턴스명,파라미터들)<br>\n",
    "혹은 인스턴스명.메소드명(파라미터들) 방식으로 불러올 수 있다\n",
    "\n",
    "인스턴스의 이름과 잔액을 요소로 갖고 C_8 class에 속해있는 객체가 몇개인지 저장하는 class C_8을 만들고 아래 출력코드를 작성하시오<br>\n",
    "\n",
    "* 은행이름은 class 전역변수로 작성하시오\n",
    "\n",
    "출력값<br>\n",
    "<span style=\"color:cyan\">\n",
    "이름 : A, 은행 : \"KHU\", 잔액 : 100<br>\n",
    "이름 : B, 은행 : \"KHU\", 잔액 : 200<br>\n",
    "2"
   ]
  },
  {
   "cell_type": "code",
   "execution_count": null,
   "metadata": {},
   "outputs": [],
   "source": [
    "class C_8:\n",
    "    member = 0\n",
    "    bank_name = \"KHU\"\n",
    "    def __init__(self,name,account):\n",
    "        self.bank_name = C_8.bank_name\n",
    "        self.name = name\n",
    "        self.account = account\n",
    "        C_8.member += 1\n",
    "    "
   ]
  },
  {
   "cell_type": "code",
   "execution_count": null,
   "metadata": {},
   "outputs": [],
   "source": [
    "v_8_1 = C_8(\"A\",100)\n",
    "v_8_2 = C_8(\"B\",200)\n",
    "\n",
    "# Class명.메소드명(인스턴스명,파라미터들)형식으로 v_8_1의 이름 : \"A\",은행 : \"KHU\",잔액 : 100을 출력하는 코드 작성\n",
    "# 인스턴스명.메소드명(파라미터들)형식으로 v_8_2의 이름 : \"B\",은행 : \"KHU\",잔액 : 200을 출력하는 코드 작성\n",
    "# C_8에 속해있는 인스턴스 수를 출력하는 코드 작성"
   ]
  },
  {
   "cell_type": "markdown",
   "metadata": {},
   "source": [
    "### 9. Class내부의 메소드를 Class 내부에서 다시 사용해보자\n",
    "\n",
    "class의 메소드는 class 밖에서만 사용 가능한것이 아니다.<br> \n",
    "한번 메소드를 만든 후 class 내부에서도 다시 사용해보자 \n",
    "\n",
    "아래 출력값이 나오도록 대각선의 길이를 구하는 diagonal 메소드와diagonal 메소드를 활용해<br> 대각선의 길이가 같은지 체크하는 check_diagonal를 메소드로 가지는 class C_9를 작성하시오\n",
    "\n",
    "\n",
    "출력값<br>\n",
    "<span style=\"color:cyan\">\n",
    "5.0 11.180339887498949\n",
    "False"
   ]
  },
  {
   "cell_type": "code",
   "execution_count": null,
   "metadata": {},
   "outputs": [],
   "source": [
    "class C_9:\n",
    "    \n",
    "    def __init__(self,a,b):\n",
    "        self.x = a\n",
    "        self.y = b\n",
    "\n",
    "    def diagonal(self):\n",
    "        return (self.x**2 + self.y**2)**(1/2)\n",
    "    \n",
    "    def check_diagonal(self,C_9_b):\n",
    "        return self.diagonal == C_9_b.diagonal"
   ]
  },
  {
   "cell_type": "code",
   "execution_count": null,
   "metadata": {},
   "outputs": [],
   "source": [
    "C_9_1 = C_9(3,4)\n",
    "C_9_2 = C_9(5,10)\n",
    "\n",
    "print(C_9_1.diagonal(),C_9_2.diagonal())\n",
    "print(C_9_1.check_diagonal(C_9_2))"
   ]
  },
  {
   "cell_type": "markdown",
   "metadata": {},
   "source": [
    "### 10. 응용 1\n",
    "\n",
    "가게의 매출을 담당하는 class를 만들어보자<br>\n",
    "KHU스토어가 있다 KHU 스토어는 판매한 물품의 수와 금액을 기록하는 것이 필요하다<br>\n",
    "판매하는 물품의 이름,가격,재고는 다른 class에서 한번에 받아온다<br>\n",
    "\n",
    "출력값과 같은 값이 나오도록 주석을 참고하여 기능을 모두 구현한 class C_10을 작성하시오\n",
    "\n",
    "출력값<br>\n",
    "<span style=\"color:cyan\">\n",
    "치킨 판매 완료\n",
    "치킨 판매 완료\n",
    "재고가 없습니다\n",
    "노트북 판매 완료\n",
    "노트북 판매 완료\n",
    "과자 판매 완료\n",
    "판매수 : 5\n",
    "매출 : 2041000\n",
    "노트북 : 1\n",
    "과자 : 99\n",
    "치킨 : 0"
   ]
  },
  {
   "cell_type": "code",
   "execution_count": null,
   "metadata": {},
   "outputs": [],
   "source": [
    "class C_10:\n",
    "    sell_count = 0\n",
    "    sell_money = 0\n",
    "    store_name = \"KHU\"\n",
    "    product = dict()\n",
    "\n",
    "    # 물품을 추가 *dict 형태로 하면 편할지도?\n",
    "    def add_product(self,a):\n",
    "        self.product[a.name] = a\n",
    "\n",
    "    # 물품이 남아있다면 판매수를 1 추가하고, 금액을 추가한 다음 재고를 -1 후 \"제품이름 + 판매 완료 출력\", 아니라면 \"재고가 없습니다 출력\"\n",
    "    def sell(self,a):\n",
    "        if(self.product[a].stock > 0):\n",
    "            self.sell_count += 1\n",
    "            self.sell_money += self.product[a].price\n",
    "            self.product[a].stock -= 1\n",
    "            print(self.product[a].name+\" 판매 완료\")\n",
    "        else:\n",
    "            print(\"재고가 없습니다\")\n",
    "\n",
    "    # 오늘의 판매수와 매출, 남은 재고수를 출력\n",
    "    def close(self):\n",
    "        print(\"판매수 : \" + str(self.sell_count))\n",
    "        print(\"매출 : \" + str(self.sell_money))\n",
    "        for i in self.product.values():\n",
    "            print(i.name + \" : \" + str(i.stock) )\n",
    "\n",
    "# 이름,가격, 물량을 생성할때 받는 product\n",
    "class product:\n",
    "    def __init__(self,name,price,stock):\n",
    "        self.name = name\n",
    "        self.price = price\n",
    "        self.stock = stock\n",
    "\n"
   ]
  },
  {
   "cell_type": "code",
   "execution_count": null,
   "metadata": {},
   "outputs": [],
   "source": [
    "p_1 = product(\"노트북\",1000000,3)\n",
    "p_2 = product(\"과자\",1000,100)\n",
    "p_3 = product(\"치킨\",20000,2)\n",
    "\n",
    "#shop_khu 를 선언후 p_1,p_2,p_3를 물품에 추가\n",
    "shop_khu = C_10()\n",
    "shop_khu.add_product(p_1)\n",
    "shop_khu.add_product(p_2)\n",
    "shop_khu.add_product(p_3)\n",
    "\n",
    "#치킨 3마리, 노트북 2대, 과자 1개 판매\n",
    "shop_khu.sell(\"치킨\")\n",
    "shop_khu.sell(\"치킨\")\n",
    "shop_khu.sell(\"치킨\")\n",
    "shop_khu.sell(\"노트북\")\n",
    "shop_khu.sell(\"노트북\")\n",
    "shop_khu.sell(\"과자\")\n",
    "\n",
    "#영업 종료!\n",
    "shop_khu.close()"
   ]
  },
  {
   "cell_type": "markdown",
   "metadata": {},
   "source": [
    "### 10. 응용 2 (객프 과제 9에서 가져옴)\n",
    "\n",
    "아래 class 를 완성 후 출력값을  확인하시오"
   ]
  },
  {
   "cell_type": "code",
   "execution_count": null,
   "metadata": {},
   "outputs": [],
   "source": [
    "# 좌측 하단 꼭짓점의 좌표\n",
    "class IntPoint:\n",
    "      def __init__(self,a,b):\n",
    "            self.x = a\n",
    "            self.y = b\n",
    "\n",
    "class Rectangle:\n",
    "      width = 0\n",
    "      height = 0\n",
    "      def __init__(self,pt,w,h):\n",
    "            self.pt = pt\n",
    "            if(w > 0):                   \n",
    "                  self.width = w\n",
    "            if(h > 0):\n",
    "                   self.width = h\n",
    "\n",
    "      def perimeter(self):\n",
    "            return 2*self.width + 2*self.height\n",
    "        \n",
    "      def area(self):\n",
    "            return self.width * self.height\n",
    "\n",
    "      def get_width(self):\n",
    "            return self.width\n",
    "        \n",
    "      def get_height(self):\n",
    "            return self.height\n",
    "        \n",
    "      #현재 사각형과 파라미터 사각형이 겹쳐있다면 true 아님 false return\n",
    "      def intersect(self,r):\n",
    "            #코드작성\n",
    "            return\n",
    "\n",
    "      # 대각선의 길이 return\n",
    "      def diagonal(self):\n",
    "            #코드 작성\n",
    "            return\n",
    "      # 중심의 좌표 return\n",
    "      def center(self):\n",
    "            #코드작성\n",
    "            return\n",
    "\n",
    "      #현재 인스턴스 사각형의 내부(경계포함)에 pt가 있으면 true,\n",
    "      #그렇지 않으면 false\n",
    "      def is_inside(self,pt):\n",
    "            #코드 작성\n",
    "            return\n"
   ]
  },
  {
   "cell_type": "code",
   "execution_count": null,
   "metadata": {},
   "outputs": [],
   "source": [
    "\n",
    "point1 = IntPoint(0, 0)\n",
    "rect1 = Rectangle(point1, 10, 5)\n",
    "\n",
    "point2 = IntPoint(20, 30)\n",
    "rect2 = Rectangle(point2, 3, 2)\n",
    "\n",
    "#사각형의 면적과 둘레\n",
    "print(\"면적 : \" + str(rect1.area()))\n",
    "print(\"둘레 : \" str(rect1.perimeter()))\n",
    "\n",
    "#두 사각형이 겹치는지 검사\n",
    "print(\"겹치는가? : \" +str(rect1.intersect(rect2)))\n",
    "\n",
    "#사각형의 대각선 길이\n",
    "print(\"대각선 길이 : \" +str(rect1.diagonal()))\n",
    "\n",
    "#특정 점이 사각형 내부에 있는지 확인\n",
    "point3 = IntPoint(4, 2)\n",
    "print(\"내부에 있는가? :  \" + str(rect1.is_inside(point3)))\n"
   ]
  },
  {
   "cell_type": "markdown",
   "metadata": {},
   "source": [
    "### 11. 응용 3 (객프 과제 9에서 가져옴)\n",
    "\n",
    "아래 출력함수가 주석과 같이 작동하도록 Rational class 와 함수들을 완성 후 출력값을  확인하시오\n",
    "* 어떤게 함수이고 어떤게 메소드일까?"
   ]
  },
  {
   "cell_type": "code",
   "execution_count": null,
   "metadata": {},
   "outputs": [],
   "source": [
    "class Rational():\n"
   ]
  },
  {
   "cell_type": "code",
   "execution_count": null,
   "metadata": {},
   "outputs": [],
   "source": [
    "r1 = Rational()\n",
    "r2 = Rational(5)\n",
    "r3 = Rational(2,8)\n",
    "r4 = Rational()\n",
    "P_1(r1)#0/1\n",
    "P_1(r2)#5/1\n",
    "P_1(r3)#1/4\n",
    "\n",
    "r4 = Mul(r2, r3)# r4 = r2*r3\n",
    "P_1(r4)#5/4\n",
    "r4 = r2.Add(r3)#r4 = r2+r3\n",
    "P_1(r4)#21/4\n",
    "\n",
    "if r4.Equal(Rational{42, 8}):\n",
    "    print(\"Equal\")\n"
   ]
  }
 ],
 "metadata": {
  "kernelspec": {
   "display_name": "Python 3",
   "language": "python",
   "name": "python3"
  },
  "language_info": {
   "codemirror_mode": {
    "name": "ipython",
    "version": 3
   },
   "file_extension": ".py",
   "mimetype": "text/x-python",
   "name": "python",
   "nbconvert_exporter": "python",
   "pygments_lexer": "ipython3",
   "version": "3.11.9"
  }
 },
 "nbformat": 4,
 "nbformat_minor": 2
}
